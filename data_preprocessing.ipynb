{
 "cells": [
  {
   "cell_type": "code",
   "execution_count": 2,
   "metadata": {},
   "outputs": [],
   "source": [
    "from pyspark.sql import SparkSession\n",
    "from pyspark.sql.functions import col, count, current_date, expr, regexp_extract, round, to_date\n",
    "\n",
    "spark = (\n",
    "    SparkSession\n",
    "        .builder\n",
    "        .appName('DataSetPreprocessingAndStreaming')\n",
    "        .getOrCreate()\n",
    ")\n",
    "\n",
    "csvFilePath = './datasets/Businesses_Registered_with_EBR_Parish_20240221.csv'\n",
    "dfBusiness = spark.read.csv(csvFilePath, header=True, inferSchema=True)\n",
    "\n",
    "csvBusinessLocationPath = './datasets/Street_Address_20240227.csv'\n",
    "dfBusinessAddress = spark.read.csv(csvBusinessLocationPath, header=True, inferSchema=True)"
   ]
  },
  {
   "cell_type": "code",
   "execution_count": 6,
   "metadata": {},
   "outputs": [
    {
     "name": "stdout",
     "output_type": "stream",
     "text": [
      "127842\n",
      "203824\n"
     ]
    }
   ],
   "source": [
    "print(dfBusiness.count())\n",
    "print(dfBusinessAddress.count())"
   ]
  },
  {
   "cell_type": "code",
   "execution_count": 3,
   "metadata": {},
   "outputs": [],
   "source": [
    "# Filter out rows that are not in Baton Rouge, LA and does not have a business_name & naics_group is not defined\n",
    "filteredDfBusiness = dfBusiness.filter(\n",
    "    (col(\"PHYSICAL ADDRESS - CITY\") == \"BATON ROUGE\") &\n",
    "    (col(\"PHYSICAL ADDRESS - STATE\") == \"LA\") &\n",
    "    (col('LEGAL NAME') != '') &\n",
    "    (col('NAICS GROUP') != '')\n",
    ")\n",
    "\n",
    "joined_df = filteredDfBusiness.join(\n",
    "        dfBusinessAddress,\n",
    "        filteredDfBusiness[\"ACCOUNT NAME\"] == dfBusinessAddress[\"BUSINESS NAME\"],\n",
    "        \"inner\"\n",
    "    ).select(\n",
    "        col(\"LEGAL NAME\").alias(\"BUSINESS NAME\"),\n",
    "        col(\"BUSINESS OPEN DATE\"),\n",
    "        col(\"BUSINESS STATUS\"),\n",
    "        col(\"BUSINESS CLOSE DATE\"),\n",
    "        filteredDfBusiness[\"NAICS CODE\"],\n",
    "        filteredDfBusiness[\"NAICS CATEGORY\"],\n",
    "        filteredDfBusiness[\"NAICS GROUP\"],\n",
    "        col(\"FULL STREET NAME\"),\n",
    "        col(\"PHYSICAL ADDRESS - CITY\").alias(\"CITY\"),\n",
    "        col(\"PHYSICAL ADDRESS - STATE\").alias(\"STATE\"),\n",
    "        col(\"GEOMETRY\"),\n",
    "    )\n",
    "\n",
    "# regular expression pattern to extract latitude and longitude\n",
    "pattern = r'POINT \\(([^ ]+) ([^ ]+)\\)'\n",
    "\n",
    "joined_df = joined_df.withColumn('LATITUDE', regexp_extract(col('GEOMETRY'), pattern, 1)) \\\n",
    "                        .withColumn('LONGITUDE', regexp_extract(col('GEOMETRY'), pattern, 2))\n",
    "joined_df = joined_df.drop('GEOMETRY')"
   ]
  },
  {
   "cell_type": "code",
   "execution_count": 7,
   "metadata": {},
   "outputs": [
    {
     "name": "stderr",
     "output_type": "stream",
     "text": [
      "                                                                                \r"
     ]
    },
    {
     "name": "stdout",
     "output_type": "stream",
     "text": [
      "17392\n"
     ]
    }
   ],
   "source": [
    "print(joined_df.count())"
   ]
  },
  {
   "cell_type": "code",
   "execution_count": 8,
   "metadata": {},
   "outputs": [],
   "source": [
    "# Define Kafka topic and bootstrap servers\n",
    "kafka_topic = \"big_data\"\n",
    "bootstrap_servers = \"localhost:9092\""
   ]
  },
  {
   "cell_type": "code",
   "execution_count": 23,
   "metadata": {},
   "outputs": [
    {
     "name": "stdout",
     "output_type": "stream",
     "text": [
      "root\n",
      " |-- BUSINESS NAME: string (nullable = true)\n",
      " |-- BUSINESS OPEN DATE: string (nullable = true)\n",
      " |-- BUSINESS STATUS: string (nullable = true)\n",
      " |-- BUSINESS CLOSE DATE: string (nullable = true)\n",
      " |-- NAICS CODE: integer (nullable = true)\n",
      " |-- NAICS CATEGORY: string (nullable = true)\n",
      " |-- NAICS GROUP: string (nullable = true)\n",
      " |-- FULL STREET NAME: string (nullable = true)\n",
      " |-- CITY: string (nullable = true)\n",
      " |-- STATE: string (nullable = true)\n",
      " |-- LATITUDE: string (nullable = true)\n",
      " |-- LONGITUDE: string (nullable = true)\n",
      "\n"
     ]
    }
   ],
   "source": [
    "joined_df.columns\n",
    "joined_df.printSchema()"
   ]
  },
  {
   "cell_type": "code",
   "execution_count": 19,
   "metadata": {},
   "outputs": [
    {
     "name": "stderr",
     "output_type": "stream",
     "text": [
      "                                                                                \r"
     ]
    }
   ],
   "source": [
    "from kafka import KafkaProducer\n",
    "\n",
    "# Create a Kafka producer\n",
    "producer = KafkaProducer(bootstrap_servers=bootstrap_servers)\n",
    "\n",
    "# Convert DataFrame to JSON and select columns you want to publish\n",
    "json_df = joined_df.toJSON()\n",
    "\n",
    "# Iterate through JSON records and send to Kafka\n",
    "for record in json_df.collect():\n",
    "    producer.send(kafka_topic, record.encode('utf-8'))"
   ]
  },
  {
   "cell_type": "code",
   "execution_count": 20,
   "metadata": {},
   "outputs": [],
   "source": [
    "producer.flush()"
   ]
  },
  {
   "cell_type": "code",
   "execution_count": 22,
   "metadata": {},
   "outputs": [
    {
     "name": "stderr",
     "output_type": "stream",
     "text": [
      "                                                                                \r"
     ]
    }
   ],
   "source": [
    "# writing the preprocessed DF to a csv file\n",
    "newCSVPath = \"./datasets/final_dataset\"\n",
    "\n",
    "joined_df.coalesce(1).write.csv(newCSVPath, header=True, sep=\",\", mode=\"overwrite\")"
   ]
  }
 ],
 "metadata": {
  "kernelspec": {
   "display_name": "Python 3",
   "language": "python",
   "name": "python3"
  },
  "language_info": {
   "codemirror_mode": {
    "name": "ipython",
    "version": 3
   },
   "file_extension": ".py",
   "mimetype": "text/x-python",
   "name": "python",
   "nbconvert_exporter": "python",
   "pygments_lexer": "ipython3",
   "version": "3.11.4"
  }
 },
 "nbformat": 4,
 "nbformat_minor": 2
}
