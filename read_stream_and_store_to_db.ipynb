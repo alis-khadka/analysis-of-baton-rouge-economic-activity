{
 "cells": [
  {
   "cell_type": "code",
   "execution_count": 1,
   "metadata": {},
   "outputs": [
    {
     "name": "stderr",
     "output_type": "stream",
     "text": [
      "24/03/01 23:01:57 WARN Utils: Your hostname, Prashants-MacBook-Pro.local resolves to a loopback address: 127.0.0.1; using 192.168.0.93 instead (on interface en0)\n",
      "24/03/01 23:01:57 WARN Utils: Set SPARK_LOCAL_IP if you need to bind to another address\n",
      "Setting default log level to \"WARN\".\n",
      "To adjust logging level use sc.setLogLevel(newLevel). For SparkR, use setLogLevel(newLevel).\n",
      "24/03/01 23:01:58 WARN NativeCodeLoader: Unable to load native-hadoop library for your platform... using builtin-java classes where applicable\n",
      "24/03/01 23:01:59 WARN Utils: Service 'SparkUI' could not bind on port 4040. Attempting port 4041.\n"
     ]
    }
   ],
   "source": [
    "from pyspark.sql import SparkSession\n",
    "from pyspark.sql.functions import from_json, col\n",
    "from pyspark.sql.types import StructType, StructField, StringType, IntegerType\n",
    "\n",
    "# Initialize SparkSession\n",
    "spark = SparkSession.builder \\\n",
    "    .appName(\"KafkaStreamToDataFrame\") \\\n",
    "    .getOrCreate()"
   ]
  },
  {
   "cell_type": "code",
   "execution_count": 2,
   "metadata": {},
   "outputs": [],
   "source": [
    "\n",
    "# Define the schema of the JSON data\n",
    "schema = StructType([\n",
    "    StructField(\"BUSINESS NAME\", StringType()),\n",
    "    StructField(\"BUSINESS OPEN DATE\", StringType()),\n",
    "    StructField(\"BUSINESS STATUS\", StringType()),\n",
    "    StructField(\"BUSINESS CLOSE DATE\", StringType()),\n",
    "    StructField(\"NAICS CODE\", IntegerType()),\n",
    "    StructField(\"NAICS CATEGORY\", StringType()),\n",
    "    StructField(\"NAICS GROUP\", StringType()),\n",
    "    StructField(\"FULL STREET NAME\", StringType()),\n",
    "    StructField(\"CITY\", StringType()),\n",
    "    StructField(\"STATE\", StringType()),\n",
    "    StructField(\"LATITUDE\", StringType()),\n",
    "    StructField(\"LONGITUDE\", StringType())\n",
    "])"
   ]
  },
  {
   "cell_type": "code",
   "execution_count": null,
   "metadata": {},
   "outputs": [],
   "source": [
    "# Read JSON data from Kafka topic\n",
    "kafka_df = spark \\\n",
    "    .readStream \\\n",
    "    .format(\"kafka\") \\\n",
    "    .option(\"kafka.bootstrap.servers\", \"localhost:9092\") \\\n",
    "    .option(\"subscribe\", \"big_data\") \\\n",
    "    .load()"
   ]
  },
  {
   "cell_type": "code",
   "execution_count": null,
   "metadata": {},
   "outputs": [],
   "source": [
    "# Parse JSON data and apply schema\n",
    "parsed_df = kafka_df \\\n",
    "    .selectExpr(\"CAST(value AS STRING)\") \\\n",
    "    .select(from_json(col(\"value\"), schema).alias(\"parsed_value\")) \\\n",
    "    .select(\"parsed_value.*\")"
   ]
  },
  {
   "cell_type": "code",
   "execution_count": 16,
   "metadata": {},
   "outputs": [
    {
     "name": "stdout",
     "output_type": "stream",
     "text": [
      "root\n",
      " |-- BUSINESS NAME: string (nullable = true)\n",
      " |-- BUSINESS OPEN DATE: string (nullable = true)\n",
      " |-- BUSINESS STATUS: string (nullable = true)\n",
      " |-- BUSINESS CLOSE DATE: string (nullable = true)\n",
      " |-- NAICS CODE: integer (nullable = true)\n",
      " |-- NAICS CATEGORY: string (nullable = true)\n",
      " |-- NAICS GROUP: string (nullable = true)\n",
      " |-- FULL STREET NAME: string (nullable = true)\n",
      " |-- CITY: string (nullable = true)\n",
      " |-- STATE: string (nullable = true)\n",
      " |-- LATITUDE: string (nullable = true)\n",
      " |-- LONGITUDE: string (nullable = true)\n",
      "\n"
     ]
    },
    {
     "name": "stderr",
     "output_type": "stream",
     "text": [
      "                                                                                \r"
     ]
    },
    {
     "name": "stdout",
     "output_type": "stream",
     "text": [
      "+--------------------+------------------+---------------+-------------------+----------+--------------------+-----------------+----------------+-----------+-----+----------------+---------------+\n",
      "|       BUSINESS NAME|BUSINESS OPEN DATE|BUSINESS STATUS|BUSINESS CLOSE DATE|NAICS CODE|      NAICS CATEGORY|      NAICS GROUP|FULL STREET NAME|       CITY|STATE|        LATITUDE|      LONGITUDE|\n",
      "+--------------------+------------------+---------------+-------------------+----------+--------------------+-----------------+----------------+-----------+-----+----------------+---------------+\n",
      "| HARDWARE STUDIO LLC|        12/01/2020|              O|               NULL|    444000|Building Material...| RETAIL TRADE (G)|    PERKINS RD E|BATON ROUGE|   LA|-91.022990315425| 30.34764735661|\n",
      "|CONNIE'S CAKE COL...|        04/17/2023|              O|               NULL|    311000|  Food Manufacturing|MANUFACTURING (D)|      BRITISH LN|BATON ROUGE|   LA|-91.043210383604|30.349897977642|\n",
      "+--------------------+------------------+---------------+-------------------+----------+--------------------+-----------------+----------------+-----------+-----+----------------+---------------+\n",
      "only showing top 2 rows\n",
      "\n"
     ]
    }
   ],
   "source": [
    "parsed_df.printSchema()\n",
    "parsed_df.show(2)"
   ]
  },
  {
   "cell_type": "code",
   "execution_count": 17,
   "metadata": {},
   "outputs": [],
   "source": [
    "from cassandra.cluster import Cluster\n",
    "\n",
    "# Cassandra connections\n",
    "contact_points = ['127.0.0.1']\n",
    "keyspace = 'bigdata_keyspace'\n",
    "\n",
    "# Connect to Cassandra cluster\n",
    "cluster = Cluster(contact_points=contact_points)\n",
    "session = cluster.connect()\n",
    "\n",
    "# Use the keyspace\n",
    "session.set_keyspace(keyspace)"
   ]
  },
  {
   "cell_type": "code",
   "execution_count": 19,
   "metadata": {},
   "outputs": [
    {
     "name": "stderr",
     "output_type": "stream",
     "text": [
      "                                                                                \r"
     ]
    }
   ],
   "source": [
    "# Prepare insert query\n",
    "table_name = f'{keyspace}.businesses'\n",
    "cassandra_column_names = [col.lower().replace(' ', '_') for col in parsed_df.columns]\n",
    "column_names = ', '.join(cassandra_column_names)\n",
    "value_placeholders = ', '.join(['%s' for _ in parsed_df.columns])\n",
    "\n",
    "insert_query = f\"INSERT INTO {table_name} ({column_names}) VALUES ({value_placeholders})\"\n",
    "\n",
    "# Deleting previous records\n",
    "session.execute(\n",
    "    f\"TRUNCATE {table_name}\"\n",
    ")\n",
    "\n",
    "for row in parsed_df.collect():\n",
    "    session.execute(insert_query, tuple(row))"
   ]
  },
  {
   "cell_type": "code",
   "execution_count": 20,
   "metadata": {},
   "outputs": [
    {
     "data": {
      "text/plain": [
       "<cassandra.cluster.ResultSet at 0x13e9f82d0>"
      ]
     },
     "execution_count": 20,
     "metadata": {},
     "output_type": "execute_result"
    }
   ],
   "source": [
    "session.execute(\n",
    "    f\"SELECT COUNT(*) FROM {table_name}\"\n",
    ")"
   ]
  }
 ],
 "metadata": {
  "kernelspec": {
   "display_name": "base",
   "language": "python",
   "name": "python3"
  },
  "language_info": {
   "codemirror_mode": {
    "name": "ipython",
    "version": 3
   },
   "file_extension": ".py",
   "mimetype": "text/x-python",
   "name": "python",
   "nbconvert_exporter": "python",
   "pygments_lexer": "ipython3",
   "version": "3.11.4"
  }
 },
 "nbformat": 4,
 "nbformat_minor": 2
}
