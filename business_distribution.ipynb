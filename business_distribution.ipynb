{
 "cells": [
  {
   "cell_type": "code",
   "execution_count": 71,
   "metadata": {},
   "outputs": [],
   "source": [
    "from pyspark.sql import SparkSession\n",
    "from pyspark.sql.functions import concat_ws, col, count, expr, to_date\n",
    "\n",
    "sparkCassandraConnectorFile = \"./spark-cassandra-connector_2.12-3.5.0.jar\"\n",
    "spark = SparkSession \\\n",
    "    .builder \\\n",
    "    .appName('BigDataProject') \\\n",
    "    .config(\"spark.jars.packages\", \"pkg:maven/com.datastax.spark/spark-cassandra-connector_2.12@3.5.0\") \\\n",
    "    .getOrCreate()\n",
    "    # .config(\"spark.jars\", sparkCassandraConnectorFile) \\\n",
    "\n",
    "\n",
    "csvFilePath = './Businesses_Registered_with_EBR_Parish_20240221.csv'\n",
    "dfBusiness = spark.read.csv(csvFilePath, header=True, inferSchema=True)\n",
    "\n",
    "csvBusinessLocationPath = './Street_Address_20240227.csv'\n",
    "dfBusinessAddress = spark.read.csv(csvBusinessLocationPath, header=True, inferSchema=True)\n",
    "\n",
    "# csvFilePathAddress = './Street_Address_Listing_20240226.csv'\n",
    "# dfAddress = spark.read.csv(csvFilePathAddress, header=True, inferSchema=True)"
   ]
  },
  {
   "cell_type": "code",
   "execution_count": 72,
   "metadata": {},
   "outputs": [
    {
     "name": "stdout",
     "output_type": "stream",
     "text": [
      "60\n",
      "19\n",
      "17407\n"
     ]
    }
   ],
   "source": [
    "# Filter out rows that are not in Baton Rouge, LA\n",
    "filteredDfBusiness = dfBusiness.filter(\n",
    "    (col(\"PHYSICAL ADDRESS - CITY\") == \"BATON ROUGE\") &\n",
    "    (col(\"PHYSICAL ADDRESS - STATE\") == \"LA\")\n",
    ")\n",
    "\n",
    "dfBusinessAddress = dfBusinessAddress.filter(\n",
    "    (col(\"BUSINESS NAME\") != \"\")\n",
    ")\n",
    "\n",
    "\n",
    "joined_df = filteredDfBusiness.join(\n",
    "        dfBusinessAddress,\n",
    "        filteredDfBusiness[\"ACCOUNT NAME\"] == dfBusinessAddress[\"BUSINESS NAME\"],\n",
    "        \"inner\"\n",
    "    ).select(\n",
    "        col(\"LEGAL NAME\").alias(\"BUSINESS NAME\"),\n",
    "        col(\"BUSINESS OPEN DATE\"),\n",
    "        col(\"BUSINESS STATUS\"),\n",
    "        col(\"BUSINESS CLOSE DATE\"),\n",
    "        filteredDfBusiness[\"NAICS CODE\"],\n",
    "        filteredDfBusiness[\"NAICS CATEGORY\"],\n",
    "        filteredDfBusiness[\"NAICS GROUP\"],\n",
    "        col(\"FULL STREET NAME\"),\n",
    "        col(\"PHYSICAL ADDRESS - CITY\").alias(\"CITY\"),\n",
    "        col(\"PHYSICAL ADDRESS - STATE\").alias(\"STATE\"),\n",
    "        col(\"GEOMETRY\"),\n",
    "    )\n",
    "\n",
    "distinct_categories = joined_df.select(col(\"NAICS CATEGORY\")).distinct()\n",
    "distinct_groups = joined_df.select(col(\"NAICS GROUP\")).distinct()\n",
    "\n",
    "print(distinct_categories.count())\n",
    "print(distinct_groups.count())\n",
    "\n",
    "print(joined_df.count())"
   ]
  },
  {
   "cell_type": "code",
   "execution_count": 73,
   "metadata": {},
   "outputs": [],
   "source": [
    "# Group by NAICS CATEGORY, PHYSICAL ADDRESS - CITY, and PHYSICAL ADDRESS - STATE and count occurrences\n",
    "# distribution = dfNew.groupBy(\"NAICS CATEGORY\", \"PHYSICAL ADDRESS - CITY\", \"PHYSICAL ADDRESS - STATE\").count()\n",
    "# distributionByState = joined_df.groupBy(\n",
    "#     \"FULL STREET NAME\",\n",
    "#     \"NAICS CATEGORY\",\n",
    "# ).agg(count(\"*\").alias(\"COUNT\"))\n",
    "\n",
    "distributionByState = joined_df.groupBy(\n",
    "    \"FULL STREET NAME\",\n",
    "    \"NAICS CATEGORY\",\n",
    ").agg(\n",
    "    count(\"*\").alias(\"TOTAL COUNT\"),\n",
    "    expr(\"sum(case when `BUSINESS STATUS` = 'O' then 1 else 0 end)\").alias(\"ACTIVE COUNT\"),\n",
    "    expr(\"sum(case when `BUSINESS STATUS` = 'C' then 1 else 0 end)\").alias(\"CLOSED COUNT\")\n",
    ")\n"
   ]
  },
  {
   "cell_type": "code",
   "execution_count": 74,
   "metadata": {},
   "outputs": [
    {
     "name": "stdout",
     "output_type": "stream",
     "text": [
      "+--------------------+--------------------+-----------+------------+------------+\n",
      "|    FULL STREET NAME|      NAICS CATEGORY|TOTAL COUNT|ACTIVE COUNT|CLOSED COUNT|\n",
      "+--------------------+--------------------+-----------+------------+------------+\n",
      "|            CADDO ST|Personal & Laundr...|          1|           1|           0|\n",
      "|  BELLE FOUNTAINE CT|Miscellaneous Oth...|          2|           2|           0|\n",
      "|      ONE CALAIS AVE|Ambulatory Health...|          2|           2|           0|\n",
      "|          NORTH BLVD|Administrative & ...|          2|           2|           0|\n",
      "|         MALLORY AVE|  Nonstore Retailers|          1|           1|           0|\n",
      "|  BAYOU FOUNTAIN AVE|Specialty Trade C...|          4|           4|           0|\n",
      "|         HIGHLAND RD|Professional, Sci...|         34|          20|          14|\n",
      "|     OLD HAMMOND HWY|  Nonstore Retailers|          7|           7|           0|\n",
      "|       OAK ARBOR AVE|Miscellaneous Oth...|          1|           1|           0|\n",
      "|GENERAL BEAUREGAR...|Specialty Trade C...|          1|           1|           0|\n",
      "+--------------------+--------------------+-----------+------------+------------+\n",
      "only showing top 10 rows\n",
      "\n",
      "None\n"
     ]
    }
   ],
   "source": [
    "# print(distribution.show())\n",
    "print(distributionByState.show(10))"
   ]
  },
  {
   "cell_type": "code",
   "execution_count": 75,
   "metadata": {},
   "outputs": [],
   "source": [
    "economy = joined_df.withColumn(\"BUSINESS OPEN DATE\", to_date(joined_df[\"BUSINESS OPEN DATE\"], \"MM/dd/yyyy\"))\n",
    "economy = economy.withColumn(\"BUSINESS CLOSE DATE\", to_date(economy[\"BUSINESS CLOSE DATE\"], \"MM/dd/yyyy\"))\n",
    "\n",
    "# Group by location and calculate the number of business openings and closures\n",
    "location_trends = economy.groupBy(\"FULL STREET NAME\").agg(\n",
    "    count(\"BUSINESS OPEN DATE\").alias(\"OPENINGS\"),\n",
    "    count(\"BUSINESS CLOSE DATE\").alias(\"CLOSURES\")\n",
    ")"
   ]
  },
  {
   "cell_type": "code",
   "execution_count": 76,
   "metadata": {},
   "outputs": [
    {
     "name": "stdout",
     "output_type": "stream",
     "text": [
      "+--------------------+--------+--------+\n",
      "|    FULL STREET NAME|OPENINGS|CLOSURES|\n",
      "+--------------------+--------+--------+\n",
      "|       W WOODGATE CT|       1|       0|\n",
      "|     HONEYSUCKLE AVE|       1|       0|\n",
      "|    JEAN LAFITTE AVE|       4|       0|\n",
      "|            EATON ST|       6|       1|\n",
      "|       LEESVILLE AVE|       1|       0|\n",
      "|GULF STATES UTILI...|       2|       1|\n",
      "|     SAINT PETER AVE|       1|       0|\n",
      "|     W SPRINGWIND CT|       3|       0|\n",
      "|            75TH AVE|       6|       2|\n",
      "|        CLAIRMONT DR|       1|       0|\n",
      "|       ENGELSWOOD ST|       2|       0|\n",
      "|         CHATAWA AVE|       2|       0|\n",
      "|          RAPIDES ST|       3|       0|\n",
      "|       SOMERUELOS ST|       4|       0|\n",
      "|          STUART AVE|       5|       0|\n",
      "|     KENILWORTH PKWY|       3|       1|\n",
      "|        S CHOCTAW DR|     110|      21|\n",
      "|  INNOVATION PARK DR|      20|       2|\n",
      "|        CITIPLACE CT|      46|       7|\n",
      "|       MC ILHENNY DR|       3|       0|\n",
      "+--------------------+--------+--------+\n",
      "only showing top 20 rows\n",
      "\n"
     ]
    }
   ],
   "source": [
    "location_trends.show()"
   ]
  },
  {
   "cell_type": "code",
   "execution_count": 77,
   "metadata": {},
   "outputs": [
    {
     "name": "stdout",
     "output_type": "stream",
     "text": [
      "root\n",
      " |-- BUSINESS NAME: string (nullable = true)\n",
      " |-- BUSINESS OPEN DATE: string (nullable = true)\n",
      " |-- BUSINESS STATUS: string (nullable = true)\n",
      " |-- BUSINESS CLOSE DATE: string (nullable = true)\n",
      " |-- NAICS CODE: integer (nullable = true)\n",
      " |-- NAICS CATEGORY: string (nullable = true)\n",
      " |-- NAICS GROUP: string (nullable = true)\n",
      " |-- FULL STREET NAME: string (nullable = true)\n",
      " |-- CITY: string (nullable = true)\n",
      " |-- STATE: string (nullable = true)\n",
      " |-- GEOMETRY: string (nullable = true)\n",
      "\n"
     ]
    }
   ],
   "source": [
    "joined_df.printSchema()"
   ]
  },
  {
   "cell_type": "code",
   "execution_count": 78,
   "metadata": {},
   "outputs": [
    {
     "data": {
      "text/plain": [
       "[('BUSINESS NAME', 'string'),\n",
       " ('BUSINESS OPEN DATE', 'string'),\n",
       " ('BUSINESS STATUS', 'string'),\n",
       " ('BUSINESS CLOSE DATE', 'string'),\n",
       " ('NAICS CODE', 'int'),\n",
       " ('NAICS CATEGORY', 'string'),\n",
       " ('NAICS GROUP', 'string'),\n",
       " ('FULL STREET NAME', 'string'),\n",
       " ('CITY', 'string'),\n",
       " ('STATE', 'string'),\n",
       " ('GEOMETRY', 'string')]"
      ]
     },
     "execution_count": 78,
     "metadata": {},
     "output_type": "execute_result"
    }
   ],
   "source": [
    "joined_df.dtypes"
   ]
  },
  {
   "cell_type": "code",
   "execution_count": 79,
   "metadata": {},
   "outputs": [],
   "source": [
    "from cassandra.cluster import Cluster\n",
    "# from cassandra.auth import PlainTextAuthProvider\n",
    "# import pandas as pd\n",
    "\n",
    "# Cassandra connection settings\n",
    "contact_points = ['127.0.0.1']  # Cassandra contact points\n",
    "keyspace = 'bigdata_keyspace'    # Keyspace name\n",
    "# username = 'your_username'       # Cassandra username (if authentication is enabled)\n",
    "# password = 'your_password'       # Cassandra password (if authentication is enabled)\n",
    "\n",
    "# Connect to Cassandra cluster\n",
    "# auth_provider = PlainTextAuthProvider(username=username, password=password) if username and password else None\n",
    "cluster = Cluster(contact_points=contact_points)\n",
    "session = cluster.connect()\n",
    "\n",
    "# Use the keyspace\n",
    "session.set_keyspace(keyspace)"
   ]
  },
  {
   "cell_type": "code",
   "execution_count": 84,
   "metadata": {},
   "outputs": [],
   "source": [
    "\n",
    "# Prepare insert query\n",
    "# table_name = f'{keyspace}.business_ebr'\n",
    "# cassandra_column_names = [col.lower().replace(' ', '_') for col in joined_df.columns]\n",
    "# column_names = ', '.join(cassandra_column_names)\n",
    "# value_placeholders = ', '.join(['%s' for _ in joined_df.columns])\n",
    "# insert_query = f\"INSERT INTO {table_name} ({column_names}) VALUES ({value_placeholders})\"\n",
    "\n",
    "# for row in joined_df.collect():\n",
    "#     # Execute the INSERT statement\n",
    "#     session.execute(insert_query, tuple(row))\n",
    "\n",
    "# Close the session and cluster connection\n",
    "# session.shutdown()\n",
    "# cluster.shutdown()\n"
   ]
  }
 ],
 "metadata": {
  "kernelspec": {
   "display_name": "base",
   "language": "python",
   "name": "python3"
  },
  "language_info": {
   "codemirror_mode": {
    "name": "ipython",
    "version": 3
   },
   "file_extension": ".py",
   "mimetype": "text/x-python",
   "name": "python",
   "nbconvert_exporter": "python",
   "pygments_lexer": "ipython3",
   "version": "3.11.4"
  }
 },
 "nbformat": 4,
 "nbformat_minor": 2
}
