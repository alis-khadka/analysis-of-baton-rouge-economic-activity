{
 "cells": [
  {
   "cell_type": "code",
   "execution_count": 11,
   "metadata": {},
   "outputs": [],
   "source": [
    "from pyspark.sql import SparkSession\n",
    "from pyspark.sql.functions import concat_ws, col, count, expr, to_date\n",
    "\n",
    "\n",
    "spark = SparkSession.builder.appName('BigDataProject').getOrCreate()\n",
    "\n",
    "csvFilePath = './Businesses_Registered_with_EBR_Parish_20240221.csv'\n",
    "dfBusiness = spark.read.csv(csvFilePath, header=True, inferSchema=True)\n",
    "\n",
    "csvBusinessLocationPath = './Street_Address_20240227.csv'\n",
    "dfBusinessAddress = spark.read.csv(csvBusinessLocationPath, header=True, inferSchema=True)\n",
    "\n",
    "# csvFilePathAddress = './Street_Address_Listing_20240226.csv'\n",
    "# dfAddress = spark.read.csv(csvFilePathAddress, header=True, inferSchema=True)"
   ]
  },
  {
   "cell_type": "code",
   "execution_count": 12,
   "metadata": {},
   "outputs": [
    {
     "name": "stdout",
     "output_type": "stream",
     "text": [
      "60\n",
      "19\n",
      "17407\n"
     ]
    }
   ],
   "source": [
    "# Filter out rows that are not in Baton Rouge, LA\n",
    "filteredDfBusiness = dfBusiness.filter(\n",
    "    (col(\"PHYSICAL ADDRESS - CITY\") == \"BATON ROUGE\") &\n",
    "    (col(\"PHYSICAL ADDRESS - STATE\") == \"LA\")\n",
    ")\n",
    "\n",
    "dfBusinessAddress = dfBusinessAddress.filter(\n",
    "    (col(\"BUSINESS NAME\") != \"\")\n",
    ")\n",
    "\n",
    "\n",
    "joined_df = filteredDfBusiness.join(\n",
    "        dfBusinessAddress,\n",
    "        filteredDfBusiness[\"ACCOUNT NAME\"] == dfBusinessAddress[\"BUSINESS NAME\"],\n",
    "        \"inner\"\n",
    "    ).select(\n",
    "        col(\"LEGAL NAME\").alias(\"BUSINESS NAME\"),\n",
    "        col(\"BUSINESS OPEN DATE\"),\n",
    "        col(\"BUSINESS STATUS\"),\n",
    "        col(\"BUSINESS CLOSE DATE\"),\n",
    "        filteredDfBusiness[\"NAICS CODE\"],\n",
    "        filteredDfBusiness[\"NAICS CATEGORY\"],\n",
    "        filteredDfBusiness[\"NAICS GROUP\"],\n",
    "        col(\"FULL STREET NAME\"),\n",
    "        col(\"PHYSICAL ADDRESS - CITY\").alias(\"CITY\"),\n",
    "        col(\"PHYSICAL ADDRESS - STATE\").alias(\"STATE\"),\n",
    "        col(\"GEOMETRY\"),\n",
    "    )\n",
    "\n",
    "distinct_categories = joined_df.select(col(\"NAICS CATEGORY\")).distinct()\n",
    "distinct_groups = joined_df.select(col(\"NAICS GROUP\")).distinct()\n",
    "\n",
    "print(distinct_categories.count())\n",
    "print(distinct_groups.count())\n",
    "\n",
    "print(joined_df.count())"
   ]
  },
  {
   "cell_type": "code",
   "execution_count": 7,
   "metadata": {},
   "outputs": [],
   "source": [
    "# Group by NAICS CATEGORY, PHYSICAL ADDRESS - CITY, and PHYSICAL ADDRESS - STATE and count occurrences\n",
    "# distribution = dfNew.groupBy(\"NAICS CATEGORY\", \"PHYSICAL ADDRESS - CITY\", \"PHYSICAL ADDRESS - STATE\").count()\n",
    "# distributionByState = joined_df.groupBy(\n",
    "#     \"FULL STREET NAME\",\n",
    "#     \"NAICS CATEGORY\",\n",
    "# ).agg(count(\"*\").alias(\"COUNT\"))\n",
    "\n",
    "distributionByState = joined_df.groupBy(\n",
    "    \"FULL STREET NAME\",\n",
    "    \"NAICS CATEGORY\",\n",
    ").agg(\n",
    "    count(\"*\").alias(\"TOTAL COUNT\"),\n",
    "    expr(\"sum(case when `BUSINESS STATUS` = 'O' then 1 else 0 end)\").alias(\"ACTIVE COUNT\"),\n",
    "    expr(\"sum(case when `BUSINESS STATUS` = 'C' then 1 else 0 end)\").alias(\"CLOSED COUNT\")\n",
    ")\n"
   ]
  },
  {
   "cell_type": "code",
   "execution_count": 8,
   "metadata": {},
   "outputs": [
    {
     "name": "stderr",
     "output_type": "stream",
     "text": [
      "[Stage 77:>                                                         (0 + 7) / 7]\r"
     ]
    },
    {
     "name": "stdout",
     "output_type": "stream",
     "text": [
      "+--------------------+--------------------+-----------+------------+------------+\n",
      "|    FULL STREET NAME|      NAICS CATEGORY|TOTAL COUNT|ACTIVE COUNT|CLOSED COUNT|\n",
      "+--------------------+--------------------+-----------+------------+------------+\n",
      "|            CADDO ST|Personal & Laundr...|          1|           1|           0|\n",
      "|  BELLE FOUNTAINE CT|Miscellaneous Oth...|          2|           2|           0|\n",
      "|      ONE CALAIS AVE|Ambulatory Health...|          2|           2|           0|\n",
      "|          NORTH BLVD|Administrative & ...|          2|           2|           0|\n",
      "|         MALLORY AVE|  Nonstore Retailers|          1|           1|           0|\n",
      "|  BAYOU FOUNTAIN AVE|Specialty Trade C...|          4|           4|           0|\n",
      "|         HIGHLAND RD|Professional, Sci...|         34|          20|          14|\n",
      "|     OLD HAMMOND HWY|  Nonstore Retailers|          7|           7|           0|\n",
      "|       OAK ARBOR AVE|Miscellaneous Oth...|          1|           1|           0|\n",
      "|GENERAL BEAUREGAR...|Specialty Trade C...|          1|           1|           0|\n",
      "|         S FOSTER DR|Personal & Laundr...|          1|           1|           0|\n",
      "|              TOM DR|Miscellaneous Sto...|          4|           3|           1|\n",
      "|          RUE CROZAT|Repair & Maintenance|          1|           1|           0|\n",
      "|EDDIE ROBINSON SR DR|Food Services & D...|          2|           2|           0|\n",
      "|           KIMBRO DR|Miscellaneous Oth...|          2|           1|           1|\n",
      "|     BOB PETTIT BLVD|Food Services & D...|          3|           2|           1|\n",
      "|            ESSEN LN|Construction of B...|          2|           2|           0|\n",
      "|       PITTSBURG AVE|Miscellaneous Oth...|          1|           1|           0|\n",
      "|  INNOVATION PARK DR|Professional, Sci...|          5|           5|           0|\n",
      "|      W MUIRFIELD DR|Miscellaneous Oth...|          3|           3|           0|\n",
      "|      E PETROLEUM DR|Miscellaneous Oth...|          2|           2|           0|\n",
      "|          AMERICA ST|Professional, Sci...|          1|           1|           0|\n",
      "|   PLANTATION KEY DR|Miscellaneous Man...|          1|           1|           0|\n",
      "|BOULEVARD DE PROV...|Food Services & D...|          1|           0|           1|\n",
      "|      LITTLEWOODS DR|  Nonstore Retailers|          1|           0|           1|\n",
      "|       GOVERNMENT ST|Miscellaneous Sto...|         31|          25|           6|\n",
      "|S SHERWOOD FOREST...|  Nonstore Retailers|          6|           3|           3|\n",
      "|       STONE GATE DR|Miscellaneous Oth...|          3|           3|           0|\n",
      "|       PARKHOLLOW DR|Specialty Trade C...|          1|           1|           0|\n",
      "|         HIGHLAND RD|Administrative & ...|          4|           3|           1|\n",
      "|       WOODDALE BLVD|Professional, Sci...|         11|           4|           7|\n",
      "|         BETH ANN DR|Personal & Laundr...|          1|           0|           1|\n",
      "|        CLAIRMONT DR|  Nonstore Retailers|          1|           1|           0|\n",
      "|      CAROLYN SUE DR|         Real Estate|          1|           0|           1|\n",
      "|        COURSEY BLVD|Amusement, Gambli...|          3|           2|           1|\n",
      "|      WASHINGTON AVE|Administrative & ...|          1|           1|           0|\n",
      "|      THIBODEAUX AVE|         Real Estate|          1|           1|           0|\n",
      "|            DONNA DR|     Crop Production|          1|           1|           0|\n",
      "|     BLUEBONNET BLVD|Ambulatory Health...|         42|          38|           4|\n",
      "|            BOONE DR|Specialty Trade C...|          1|           1|           0|\n",
      "|            ESSEN LN|Clothing & Clothi...|          1|           0|           1|\n",
      "|HOLLYWOOD-GREENWE...|Monetary Authorities|          1|           1|           0|\n",
      "|          MISSION DR|Repair & Maintenance|          1|           1|           0|\n",
      "|        HILLROSE AVE|Construction of B...|          1|           0|           1|\n",
      "|           DARBY AVE|Clothing & Clothi...|          1|           0|           1|\n",
      "|           HOOPER RD|Repair & Maintenance|          8|           8|           0|\n",
      "|       HENNESSY BLVD|Food Services & D...|         19|           9|          10|\n",
      "|         MC QUAID DR| Internet Sales Only|          1|           0|           1|\n",
      "|     BLUEBONNET BLVD|Personal & Laundr...|         20|          15|           5|\n",
      "|         COLUMNS WAY|Repair & Maintenance|          1|           1|           0|\n",
      "|     SAINT PHILIP ST|Performing Arts, ...|          1|           1|           0|\n",
      "|           NELSON DR|Specialty Trade C...|          1|           1|           0|\n",
      "|GREENWELL SPRINGS RD|Warehousing & Sto...|          3|           1|           2|\n",
      "|       LAKE WORTH DR|Miscellaneous Oth...|         22|           8|          14|\n",
      "|       WOODDALE BLVD|Administrative & ...|          2|           2|           0|\n",
      "|        VAN GOGH AVE|Food Services & D...|          1|           1|           0|\n",
      "|       GOVERNMENT ST|Miscellaneous Tra...|          1|           1|           0|\n",
      "|      S ACADIAN THWY|Specialty Trade C...|          4|           4|           0|\n",
      "|             MAIN ST|Rental & Leasing ...|          2|           2|           0|\n",
      "|         LOBDELL AVE|Furniture & Home ...|          2|           2|           0|\n",
      "|         BANKERS AVE|Professional, Sci...|          2|           2|           0|\n",
      "|         AIRLINE HWY|Personal & Laundr...|         26|          23|           3|\n",
      "|           N MALL DR|Miscellaneous Oth...|         18|           3|          15|\n",
      "|    CONSTITUTION AVE|       Accommodation|          7|           4|           3|\n",
      "|        COURSEY BLVD|Miscellaneous Man...|          2|           2|           0|\n",
      "|         MOLLYLEA DR|Miscellaneous Oth...|          3|           3|           0|\n",
      "|   UNITED PLAZA BLVD|Insurance Carrier...|          1|           1|           0|\n",
      "|         HIGHLAND RD|Miscellaneous Sto...|         46|          31|          15|\n",
      "|       N FLANNERY RD|  Nonstore Retailers|          1|           1|           0|\n",
      "|      CEDARCREST AVE|  Nonstore Retailers|          1|           0|           1|\n",
      "|          JACOCKS RD|Professional, Sci...|          1|           0|           1|\n",
      "|         RITTINER DR|Miscellaneous Oth...|          1|           0|           1|\n",
      "|         BRISTOE AVE|Miscellaneous Oth...|          1|           1|           0|\n",
      "|        COURSEY BLVD|Professional, Sci...|         10|          10|           0|\n",
      "|      CLOVERLAND AVE|Building Material...|          1|           1|           0|\n",
      "|         DRUSILLA LN|Food & Beverage S...|          8|           6|           2|\n",
      "|         PICARDY AVE|Ambulatory Health...|         19|          17|           2|\n",
      "|           WOMACK RD|Motor Vehicle & P...|          1|           1|           0|\n",
      "|         SHERWOOD ST|Administrative & ...|          3|           0|           3|\n",
      "|       PARK ROWE AVE|  Nonstore Retailers|          1|           1|           0|\n",
      "|       HENNESSY BLVD|Miscellaneous Sto...|          5|           3|           2|\n",
      "|        FLORIDA BLVD|Food Services & D...|        134|          84|          50|\n",
      "|           N 39TH ST|Miscellaneous Sto...|          5|           5|           0|\n",
      "|           N MALL DR|Professional, Sci...|         12|           5|           7|\n",
      "|           SIEGEN LN|Miscellaneous Oth...|         49|          30|          19|\n",
      "|       RICHCROFT AVE|Miscellaneous Oth...|          1|           1|           0|\n",
      "|          CHOCTAW DR|Miscellaneous Man...|          3|           3|           0|\n",
      "|        HYACINTH AVE|         Real Estate|          1|           1|           0|\n",
      "|N HARRELL'S FERRY RD|Professional, Sci...|          4|           4|           0|\n",
      "|        QUAIL RUN DR|           Hospitals|          1|           1|           0|\n",
      "|         HIGHLAND RD|   Gasoline Stations|          9|           5|           4|\n",
      "|     HIDDEN RIDGE LN|Personal & Laundr...|          1|           0|           1|\n",
      "|    GEORGE O'NEAL RD|Food Services & D...|          8|           6|           2|\n",
      "|       FERNBROOK AVE|Specialty Trade C...|          1|           1|           0|\n",
      "|       WOODDALE BLVD|Miscellaneous Sto...|          4|           4|           0|\n",
      "|       WINBOURNE AVE|Miscellaneous Oth...|         13|          13|           0|\n",
      "|       N FLANNERY RD|Miscellaneous Man...|          2|           1|           1|\n",
      "|       DENA LYNN AVE|  Nonstore Retailers|          1|           0|           1|\n",
      "|      JONES CREEK RD|         Real Estate|          1|           0|           1|\n",
      "|           SIEGEN LN|Building Material...|          3|           3|           0|\n",
      "+--------------------+--------------------+-----------+------------+------------+\n",
      "only showing top 100 rows\n",
      "\n",
      "None\n"
     ]
    },
    {
     "name": "stderr",
     "output_type": "stream",
     "text": [
      "                                                                                \r"
     ]
    }
   ],
   "source": [
    "# print(distribution.show())\n",
    "print(distributionByState.show(100))"
   ]
  },
  {
   "cell_type": "code",
   "execution_count": 15,
   "metadata": {},
   "outputs": [],
   "source": [
    "economy = joined_df.withColumn(\"BUSINESS OPEN DATE\", to_date(joined_df[\"BUSINESS OPEN DATE\"], \"MM/dd/yyyy\"))\n",
    "economy = economy.withColumn(\"BUSINESS CLOSE DATE\", to_date(economy[\"BUSINESS CLOSE DATE\"], \"MM/dd/yyyy\"))\n",
    "\n",
    "# Group by location and calculate the number of business openings and closures\n",
    "location_trends = economy.groupBy(\"FULL STREET NAME\").agg(\n",
    "    count(\"BUSINESS OPEN DATE\").alias(\"OPENINGS\"),\n",
    "    count(\"BUSINESS CLOSE DATE\").alias(\"CLOSURES\")\n",
    ")"
   ]
  },
  {
   "cell_type": "code",
   "execution_count": 16,
   "metadata": {},
   "outputs": [
    {
     "name": "stderr",
     "output_type": "stream",
     "text": [
      "[Stage 107:================>                                        (2 + 5) / 7]\r"
     ]
    },
    {
     "name": "stdout",
     "output_type": "stream",
     "text": [
      "+--------------------+--------+--------+\n",
      "|    FULL STREET NAME|OPENINGS|CLOSURES|\n",
      "+--------------------+--------+--------+\n",
      "|       W WOODGATE CT|       1|       0|\n",
      "|     HONEYSUCKLE AVE|       1|       0|\n",
      "|    JEAN LAFITTE AVE|       4|       0|\n",
      "|            EATON ST|       6|       1|\n",
      "|       LEESVILLE AVE|       1|       0|\n",
      "|GULF STATES UTILI...|       2|       1|\n",
      "|     SAINT PETER AVE|       1|       0|\n",
      "|     W SPRINGWIND CT|       3|       0|\n",
      "|            75TH AVE|       6|       2|\n",
      "|        CLAIRMONT DR|       1|       0|\n",
      "|       ENGELSWOOD ST|       2|       0|\n",
      "|         CHATAWA AVE|       2|       0|\n",
      "|          RAPIDES ST|       3|       0|\n",
      "|       SOMERUELOS ST|       4|       0|\n",
      "|          STUART AVE|       5|       0|\n",
      "|     KENILWORTH PKWY|       3|       1|\n",
      "|        S CHOCTAW DR|     110|      21|\n",
      "|  INNOVATION PARK DR|      20|       2|\n",
      "|        CITIPLACE CT|      46|       7|\n",
      "|       MC ILHENNY DR|       3|       0|\n",
      "+--------------------+--------+--------+\n",
      "only showing top 20 rows\n",
      "\n"
     ]
    },
    {
     "name": "stderr",
     "output_type": "stream",
     "text": [
      "                                                                                \r"
     ]
    }
   ],
   "source": [
    "location_trends.show()"
   ]
  },
  {
   "cell_type": "code",
   "execution_count": null,
   "metadata": {},
   "outputs": [],
   "source": []
  }
 ],
 "metadata": {
  "kernelspec": {
   "display_name": "base",
   "language": "python",
   "name": "python3"
  },
  "language_info": {
   "codemirror_mode": {
    "name": "ipython",
    "version": 3
   },
   "file_extension": ".py",
   "mimetype": "text/x-python",
   "name": "python",
   "nbconvert_exporter": "python",
   "pygments_lexer": "ipython3",
   "version": "3.11.4"
  }
 },
 "nbformat": 4,
 "nbformat_minor": 2
}
