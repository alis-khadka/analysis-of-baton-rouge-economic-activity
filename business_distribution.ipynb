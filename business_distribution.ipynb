{
 "cells": [
  {
   "cell_type": "code",
   "execution_count": 1,
   "metadata": {},
   "outputs": [
    {
     "name": "stderr",
     "output_type": "stream",
     "text": [
      "24/02/29 19:32:55 WARN Utils: Your hostname, Prashants-MacBook-Pro.local resolves to a loopback address: 127.0.0.1; using 192.168.0.93 instead (on interface en0)\n",
      "24/02/29 19:32:55 WARN Utils: Set SPARK_LOCAL_IP if you need to bind to another address\n",
      "Setting default log level to \"WARN\".\n",
      "To adjust logging level use sc.setLogLevel(newLevel). For SparkR, use setLogLevel(newLevel).\n",
      "24/02/29 19:32:56 WARN NativeCodeLoader: Unable to load native-hadoop library for your platform... using builtin-java classes where applicable\n",
      "24/02/29 19:32:57 WARN Utils: Service 'SparkUI' could not bind on port 4040. Attempting port 4041.\n",
      "24/02/29 19:32:57 WARN Utils: Service 'SparkUI' could not bind on port 4041. Attempting port 4042.\n",
      "                                                                                \r"
     ]
    }
   ],
   "source": [
    "from pyspark.sql import SparkSession\n",
    "from pyspark.sql.functions import col, count, current_date, expr, regexp_extract, round, to_date\n",
    "\n",
    "spark = (SparkSession\n",
    "    .builder\n",
    "    .appName('BigDataProject')\n",
    "    .getOrCreate()\n",
    ")\n",
    "\n",
    "csvFilePath = './Businesses_Registered_with_EBR_Parish_20240221.csv'\n",
    "dfBusiness = spark.read.csv(csvFilePath, header=True, inferSchema=True)\n",
    "\n",
    "csvBusinessLocationPath = './Street_Address_20240227.csv'\n",
    "dfBusinessAddress = spark.read.csv(csvBusinessLocationPath, header=True, inferSchema=True)"
   ]
  },
  {
   "cell_type": "code",
   "execution_count": 42,
   "metadata": {},
   "outputs": [
    {
     "name": "stdout",
     "output_type": "stream",
     "text": [
      "+----------------------------+------------------+---------------+-------------------+----------+--------------------------------------------------+-----------------+----------------+-----------+-----+----------------+---------------+\n",
      "|BUSINESS NAME               |BUSINESS OPEN DATE|BUSINESS STATUS|BUSINESS CLOSE DATE|NAICS CODE|NAICS CATEGORY                                    |NAICS GROUP      |FULL STREET NAME|CITY       |STATE|LATITUDE        |LONGITUDE      |\n",
      "+----------------------------+------------------+---------------+-------------------+----------+--------------------------------------------------+-----------------+----------------+-----------+-----+----------------+---------------+\n",
      "|HARDWARE STUDIO LLC         |12/01/2020        |O              |NULL               |444000    |Building Material & Garden Equip & Supplies Dealer|RETAIL TRADE (G) |PERKINS RD E    |BATON ROUGE|LA   |-91.022990315425|30.34764735661 |\n",
      "|CONNIE'S CAKE COLLECTION LLC|04/17/2023        |O              |NULL               |311000    |Food Manufacturing                                |MANUFACTURING (D)|BRITISH LN      |BATON ROUGE|LA   |-91.043210383604|30.349897977642|\n",
      "+----------------------------+------------------+---------------+-------------------+----------+--------------------------------------------------+-----------------+----------------+-----------+-----+----------------+---------------+\n",
      "only showing top 2 rows\n",
      "\n",
      "root\n",
      " |-- BUSINESS NAME: string (nullable = true)\n",
      " |-- BUSINESS OPEN DATE: date (nullable = true)\n",
      " |-- BUSINESS STATUS: string (nullable = true)\n",
      " |-- BUSINESS CLOSE DATE: date (nullable = true)\n",
      " |-- NAICS CODE: integer (nullable = true)\n",
      " |-- NAICS CATEGORY: string (nullable = true)\n",
      " |-- NAICS GROUP: string (nullable = true)\n",
      " |-- FULL STREET NAME: string (nullable = true)\n",
      " |-- CITY: string (nullable = true)\n",
      " |-- STATE: string (nullable = true)\n",
      " |-- LATITUDE: string (nullable = true)\n",
      " |-- LONGITUDE: string (nullable = true)\n",
      "\n",
      "+----------------------------+------------------+---------------+-------------------+----------+--------------------------------------------------+-----------------+----------------+-----------+-----+----------------+---------------+\n",
      "|BUSINESS NAME               |BUSINESS OPEN DATE|BUSINESS STATUS|BUSINESS CLOSE DATE|NAICS CODE|NAICS CATEGORY                                    |NAICS GROUP      |FULL STREET NAME|CITY       |STATE|LATITUDE        |LONGITUDE      |\n",
      "+----------------------------+------------------+---------------+-------------------+----------+--------------------------------------------------+-----------------+----------------+-----------+-----+----------------+---------------+\n",
      "|HARDWARE STUDIO LLC         |2020-12-01        |O              |NULL               |444000    |Building Material & Garden Equip & Supplies Dealer|RETAIL TRADE (G) |PERKINS RD E    |BATON ROUGE|LA   |-91.022990315425|30.34764735661 |\n",
      "|CONNIE'S CAKE COLLECTION LLC|2023-04-17        |O              |NULL               |311000    |Food Manufacturing                                |MANUFACTURING (D)|BRITISH LN      |BATON ROUGE|LA   |-91.043210383604|30.349897977642|\n",
      "+----------------------------+------------------+---------------+-------------------+----------+--------------------------------------------------+-----------------+----------------+-----------+-----+----------------+---------------+\n",
      "only showing top 2 rows\n",
      "\n"
     ]
    }
   ],
   "source": [
    "# Filter out rows that are not in Baton Rouge, LA and does not have a business_name & naics_group is not defined\n",
    "filteredDfBusiness = dfBusiness.filter(\n",
    "    (col(\"PHYSICAL ADDRESS - CITY\") == \"BATON ROUGE\") &\n",
    "    (col(\"PHYSICAL ADDRESS - STATE\") == \"LA\") &\n",
    "    (col('LEGAL NAME') != '') &\n",
    "    (col('NAICS GROUP') != '')\n",
    ")\n",
    "\n",
    "joined_df = filteredDfBusiness.join(\n",
    "        dfBusinessAddress,\n",
    "        filteredDfBusiness[\"ACCOUNT NAME\"] == dfBusinessAddress[\"BUSINESS NAME\"],\n",
    "        \"inner\"\n",
    "    ).select(\n",
    "        col(\"LEGAL NAME\").alias(\"BUSINESS NAME\"),\n",
    "        col(\"BUSINESS OPEN DATE\"),\n",
    "        col(\"BUSINESS STATUS\"),\n",
    "        col(\"BUSINESS CLOSE DATE\"),\n",
    "        filteredDfBusiness[\"NAICS CODE\"],\n",
    "        filteredDfBusiness[\"NAICS CATEGORY\"],\n",
    "        filteredDfBusiness[\"NAICS GROUP\"],\n",
    "        col(\"FULL STREET NAME\"),\n",
    "        col(\"PHYSICAL ADDRESS - CITY\").alias(\"CITY\"),\n",
    "        col(\"PHYSICAL ADDRESS - STATE\").alias(\"STATE\"),\n",
    "        col(\"GEOMETRY\"),\n",
    "    )\n",
    "\n",
    "# regular expression pattern to extract latitude and longitude\n",
    "pattern = r'POINT \\(([^ ]+) ([^ ]+)\\)'\n",
    "\n",
    "joined_df = joined_df.withColumn('LATITUDE', regexp_extract(col('GEOMETRY'), pattern, 1)) \\\n",
    "                        .withColumn('LONGITUDE', regexp_extract(col('GEOMETRY'), pattern, 2))\n",
    "joined_df = joined_df.drop('GEOMETRY')\n",
    "\n",
    "# Converting string columns to date columns\n",
    "# joined_df.show(2, truncate=False)\n",
    "# date_format = \"MM/dd/yyyy\"\n",
    "# joined_df = joined_df \\\n",
    "#     .withColumn(\"BUSINESS OPEN DATE\", to_date(joined_df[\"BUSINESS OPEN DATE\"], date_format)) \\\n",
    "#     .withColumn(\"BUSINESS CLOSE DATE\", to_date(joined_df[\"BUSINESS CLOSE DATE\"], date_format))\n",
    "\n",
    "# joined_df.printSchema()\n",
    "# joined_df.show(2, truncate=False)"
   ]
  },
  {
   "cell_type": "code",
   "execution_count": 30,
   "metadata": {},
   "outputs": [
    {
     "name": "stdout",
     "output_type": "stream",
     "text": [
      "+--------------------+------------------+---------------+-------------------+----------+--------------------+--------------------+----------------+-----------+-----+--------------------+--------+---------+\n",
      "|       BUSINESS NAME|BUSINESS OPEN DATE|BUSINESS STATUS|BUSINESS CLOSE DATE|NAICS CODE|      NAICS CATEGORY|         NAICS GROUP|FULL STREET NAME|       CITY|STATE|            GEOMETRY|LATITUDE|LONGITUDE|\n",
      "+--------------------+------------------+---------------+-------------------+----------+--------------------+--------------------+----------------+-----------+-----+--------------------+--------+---------+\n",
      "| HARDWARE STUDIO LLC|              NULL|              O|               NULL|    444000|Building Material...|    RETAIL TRADE (G)|    PERKINS RD E|BATON ROUGE|   LA|POINT (-91.022990...|  -91.02|    30.35|\n",
      "|CONNIE'S CAKE COL...|              NULL|              O|               NULL|    311000|  Food Manufacturing|   MANUFACTURING (D)|      BRITISH LN|BATON ROUGE|   LA|POINT (-91.043210...|  -91.04|    30.35|\n",
      "|  PHONE WIRELESS INC|              NULL|              O|               NULL|    453000|Miscellaneous Sto...|    RETAIL TRADE (G)|        PLANK RD|BATON ROUGE|   LA|POINT (-91.156099...|  -91.16|    30.49|\n",
      "|  RED GIANT FOOD LLC|              NULL|              O|               NULL|    722000|Food Services & D...|ACCOMODATION & FO...|GEORGE O'NEAL RD|BATON ROUGE|   LA|POINT (-91.014163...|  -91.01|    30.41|\n",
      "|     LEGACY AUTO LLC|              NULL|              O|               NULL|    441000|Motor Vehicle & P...|    RETAIL TRADE (G)|     AIRLINE HWY|BATON ROUGE|   LA|POINT (-91.048594...|  -91.05|    30.39|\n",
      "+--------------------+------------------+---------------+-------------------+----------+--------------------+--------------------+----------------+-----------+-----+--------------------+--------+---------+\n",
      "only showing top 5 rows\n",
      "\n",
      "None\n"
     ]
    }
   ],
   "source": [
    "# Group by NAICS CATEGORY, PHYSICAL ADDRESS - CITY, and PHYSICAL ADDRESS - STATE and count occurrences\n",
    "# distribution = dfNew.groupBy(\"NAICS CATEGORY\", \"PHYSICAL ADDRESS - CITY\", \"PHYSICAL ADDRESS - STATE\").count()\n",
    "# distributionByState = joined_df.groupBy(\n",
    "#     \"FULL STREET NAME\",\n",
    "#     \"NAICS CATEGORY\",\n",
    "# ).agg(count(\"*\").alias(\"COUNT\"))\n",
    "\n",
    "distributionByState = joined_df.groupBy(\n",
    "    \"FULL STREET NAME\",\n",
    "    \"NAICS CATEGORY\",\n",
    ").agg(\n",
    "    count(\"*\").alias(\"TOTAL COUNT\"),\n",
    "    expr(\"sum(case when `BUSINESS STATUS` = 'O' then 1 else 0 end)\").alias(\"ACTIVE COUNT\"),\n",
    "    expr(\"sum(case when `BUSINESS STATUS` = 'C' then 1 else 0 end)\").alias(\"CLOSED COUNT\")\n",
    ")\n",
    "\n",
    "print(joined_df.show(5))\n"
   ]
  },
  {
   "cell_type": "code",
   "execution_count": 6,
   "metadata": {},
   "outputs": [],
   "source": [
    "economy = joined_df.withColumn(\"BUSINESS OPEN DATE\", to_date(joined_df[\"BUSINESS OPEN DATE\"], \"MM/dd/yyyy\"))\n",
    "economy = economy.withColumn(\"BUSINESS CLOSE DATE\", to_date(economy[\"BUSINESS CLOSE DATE\"], \"MM/dd/yyyy\"))\n",
    "\n",
    "# Group by location and calculate the number of business openings and closures\n",
    "location_trends = economy.groupBy(\"FULL STREET NAME\").agg(\n",
    "    count(\"BUSINESS OPEN DATE\").alias(\"OPENINGS\"),\n",
    "    count(\"BUSINESS CLOSE DATE\").alias(\"CLOSURES\")\n",
    ")"
   ]
  },
  {
   "cell_type": "code",
   "execution_count": 43,
   "metadata": {},
   "outputs": [],
   "source": [
    "from cassandra.cluster import Cluster\n",
    "# from cassandra.auth import PlainTextAuthProvider\n",
    "# import pandas as pd\n",
    "\n",
    "# Cassandra connection settings\n",
    "contact_points = ['127.0.0.1']  # Cassandra contact points\n",
    "keyspace = 'bigdata_keyspace'    # Keyspace name\n",
    "# username = 'your_username'       # Cassandra username (if authentication is enabled)\n",
    "# password = 'your_password'       # Cassandra password (if authentication is enabled)\n",
    "\n",
    "# Connect to Cassandra cluster\n",
    "# auth_provider = PlainTextAuthProvider(username=username, password=password) if username and password else None\n",
    "cluster = Cluster(contact_points=contact_points)\n",
    "session = cluster.connect()\n",
    "\n",
    "# Use the keyspace\n",
    "session.set_keyspace(keyspace)"
   ]
  },
  {
   "cell_type": "code",
   "execution_count": 44,
   "metadata": {},
   "outputs": [
    {
     "name": "stderr",
     "output_type": "stream",
     "text": [
      "                                                                                \r"
     ]
    }
   ],
   "source": [
    "\n",
    "# Prepare insert query\n",
    "# table_name = f'{keyspace}.business_ebr'\n",
    "# cassandra_column_names = [col.lower().replace(' ', '_') for col in joined_df.columns]\n",
    "# column_names = ', '.join(cassandra_column_names)\n",
    "# value_placeholders = ', '.join(['%s' for _ in joined_df.columns])\n",
    "# insert_query = f\"INSERT INTO {table_name} ({column_names}) VALUES ({value_placeholders})\"\n",
    "\n",
    "# for row in joined_df.collect():\n",
    "#     # Execute the INSERT statement\n",
    "#     session.execute(insert_query, tuple(row))\n",
    "\n",
    "\n",
    "# Prepare insert query\n",
    "table_name = f'{keyspace}.businesses'\n",
    "cassandra_column_names = [col.lower().replace(' ', '_') for col in joined_df.columns]\n",
    "column_names = ', '.join(cassandra_column_names)\n",
    "value_placeholders = ', '.join(['%s' for _ in joined_df.columns])\n",
    "\n",
    "insert_query = f\"INSERT INTO {table_name} ({column_names}) VALUES ({value_placeholders})\"\n",
    "\n",
    "# Deleting previous records\n",
    "session.execute(\n",
    "    f\"TRUNCATE {table_name}\"\n",
    ")\n",
    "\n",
    "for row in joined_df.collect():\n",
    "    session.execute(insert_query, tuple(row))\n",
    "\n",
    "# Close the session and cluster connection\n",
    "# session.shutdown()\n",
    "# cluster.shutdown()\n"
   ]
  },
  {
   "cell_type": "code",
   "execution_count": 9,
   "metadata": {},
   "outputs": [
    {
     "data": {
      "text/plain": [
       "17407"
      ]
     },
     "execution_count": 9,
     "metadata": {},
     "output_type": "execute_result"
    }
   ],
   "source": [
    "joined_df.count()"
   ]
  },
  {
   "cell_type": "code",
   "execution_count": 11,
   "metadata": {},
   "outputs": [],
   "source": [
    "contact_points = ['127.0.0.1']\n",
    "keyspace = 'bigdata_keyspace'\n",
    "table_name = f'{keyspace}.businesses'\n",
    "\n",
    "# Connecting Cassandra DB\n",
    "cluster = Cluster(contact_points=contact_points)\n",
    "session = cluster.connect()\n",
    "session.set_keyspace(keyspace)\n",
    "\n",
    "# Execute a SELECT query to fetch all records from the table\n",
    "select_query = f\"SELECT * FROM {table_name};\"\n",
    "rows = session.execute(select_query)\n",
    "\n",
    "# Convert the result into a list of tuples\n",
    "data = [(row.business_close_date, row.business_name, row.business_open_date, row.business_status, \n",
    "         row.city, row.full_street_name, row.geometry, row.naics_category, row.naics_code, row.naics_group, row.state) \n",
    "        for row in rows]\n",
    "\n",
    "# Create a DataFrame using PySpark\n",
    "df = spark.createDataFrame(data, \n",
    "                           [\"business_close_date\", \"business_name\", \"business_open_date\", \"business_status\", \n",
    "                            \"city\", \"full_street_name\", \"geometry\", \"naics_category\", \"naics_code\", \"naics_group\", \"state\"])\n"
   ]
  },
  {
   "cell_type": "code",
   "execution_count": 12,
   "metadata": {},
   "outputs": [
    {
     "name": "stdout",
     "output_type": "stream",
     "text": [
      "root\n",
      " |-- business_close_date: string (nullable = true)\n",
      " |-- business_name: string (nullable = true)\n",
      " |-- business_open_date: string (nullable = true)\n",
      " |-- business_status: string (nullable = true)\n",
      " |-- city: string (nullable = true)\n",
      " |-- full_street_name: string (nullable = true)\n",
      " |-- geometry: string (nullable = true)\n",
      " |-- naics_category: string (nullable = true)\n",
      " |-- naics_code: long (nullable = true)\n",
      " |-- naics_group: string (nullable = true)\n",
      " |-- state: string (nullable = true)\n",
      "\n"
     ]
    }
   ],
   "source": [
    "df.printSchema()\n"
   ]
  },
  {
   "cell_type": "code",
   "execution_count": 16,
   "metadata": {},
   "outputs": [
    {
     "data": {
      "text/plain": [
       "'struct<business_close_date:string,business_name:string,business_open_date:string,business_status:string,city:string,full_street_name:string,geometry:string,naics_category:string,naics_code:bigint,naics_group:string,state:string>'"
      ]
     },
     "execution_count": 16,
     "metadata": {},
     "output_type": "execute_result"
    }
   ],
   "source": [
    "df.schema.simpleString()"
   ]
  },
  {
   "cell_type": "code",
   "execution_count": null,
   "metadata": {},
   "outputs": [],
   "source": []
  }
 ],
 "metadata": {
  "kernelspec": {
   "display_name": "base",
   "language": "python",
   "name": "python3"
  },
  "language_info": {
   "codemirror_mode": {
    "name": "ipython",
    "version": 3
   },
   "file_extension": ".py",
   "mimetype": "text/x-python",
   "name": "python",
   "nbconvert_exporter": "python",
   "pygments_lexer": "ipython3",
   "version": "3.11.4"
  }
 },
 "nbformat": 4,
 "nbformat_minor": 2
}
